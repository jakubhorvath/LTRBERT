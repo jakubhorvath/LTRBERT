{
 "cells": [
  {
   "attachments": {},
   "cell_type": "markdown",
   "metadata": {},
   "source": [
    "# Prepare training database"
   ]
  },
  {
   "cell_type": "code",
   "execution_count": 1,
   "metadata": {},
   "outputs": [],
   "source": [
    "import Bio.SeqIO as SeqIO\n",
    "\n",
    "\n",
    "LTR_sequences = [record for record in SeqIO.parse(\"/opt/xhorvat9_TE_DBs/CNN_BERT_train_DB/LTR_sequences.fasta\", \"fasta\")]\n",
    "#max_sequence_length = 250\n",
    "non_LTR_sequences = []"
   ]
  },
  {
   "attachments": {},
   "cell_type": "markdown",
   "metadata": {},
   "source": [
    "### Create a sampling distribution from sequence lengths"
   ]
  },
  {
   "cell_type": "code",
   "execution_count": null,
   "metadata": {},
   "outputs": [],
   "source": [
    "import seaborn as sns\n",
    "import matplotlib.pyplot as plt\n",
    "seq_lens = [len(rec.seq) for rec in LTR_sequences if len(rec.seq) <= 2000]\n",
    "sns.set(rc={'figure.figsize':(14,8)}, font_scale=1.4)\n",
    "\n",
    "sns.histplot(seq_lens)\n",
    "plt.title(\"Sequence Length Distribution\",pad=24)\n",
    "plt.ylabel(\"Count\")\n",
    "plt.xlabel(\"Sequence Length\")"
   ]
  },
  {
   "attachments": {},
   "cell_type": "markdown",
   "metadata": {},
   "source": [
    "### 2. Generate random sequences\n",
    "- let 25 % of the negative sequences be generated sequences"
   ]
  },
  {
   "cell_type": "code",
   "execution_count": 28,
   "metadata": {},
   "outputs": [],
   "source": [
    "import random\n",
    "from Bio.SeqRecord import SeqRecord\n",
    "from Bio.Seq import Seq\n",
    "import random \n",
    "sequence_id = 0 \n",
    "n_seqs = int(len(LTR_sequences) * 0.25)\n",
    "avg_len = int(sum([len(seq) for seq in LTR_sequences])/len(LTR_sequences))\n",
    "\n",
    "for _ in range(n_seqs):\n",
    "    length = random.choice(seq_lens)\n",
    "    sequence = ''.join([random.choice([\"A\",\"C\", \"T\", \"G\"]) for _ in range(length)])\n",
    "    record = SeqRecord(\n",
    "        Seq(sequence),\n",
    "        id=f\"{sequence_id}_non-LTR_generated\",\n",
    "        description=\"randomly generated non-LTR sequence\")\n",
    "    sequence_id += 1\n",
    "\n",
    "    non_LTR_sequences.append(record)"
   ]
  },
  {
   "attachments": {},
   "cell_type": "markdown",
   "metadata": {},
   "source": [
    "### 3. take sequences cut out from genomic sequences "
   ]
  },
  {
   "cell_type": "code",
   "execution_count": 1,
   "metadata": {},
   "outputs": [],
   "source": [
    "# Identify regions without TE content\n",
    "genomes_path = \"/opt/xhorvat9_TE_DBs/Genomes/Genomes/\"\n",
    "annotation_path = \"/opt/xhorvat9_TE_DBs/Genomes/Genomes/all_annotations/\"\n",
    "genomes = [\"Casuarina_equisetifolia\",  \"Citrullus_lanatus\",  \"Hordeum_vulgare\",  \"Juglans_regia\",\t\"Zea_mays\"]\n",
    "genome_paths = [f\"{genomes_path}{genome}.fa\" for genome in genomes]\n",
    "annotation_paths = [f\"{annotation_path}{genome}.txt\" for genome in genomes]"
   ]
  },
  {
   "attachments": {},
   "cell_type": "markdown",
   "metadata": {},
   "source": [
    "#### Identify LTR locations"
   ]
  },
  {
   "cell_type": "code",
   "execution_count": null,
   "metadata": {},
   "outputs": [],
   "source": [
    "import tqdm\n",
    "import pandas as pd\n",
    "LTRs = {}\n",
    "for genome in genomes:\n",
    "    annot = pd.read_csv(f\"{annotation_path}{genome}.txt\", sep=\"\\t\", low_memory=False).iloc[:-1, :-1]\n",
    "    #LTR_IDs = set(annot[annot[\"Domain\"].str.contains(\"ltr\")][\"LTR_ID\"])\n",
    "    LTR_IDs = set(annot[\"LTR_ID\"])\n",
    "    \n",
    "    for idx in tqdm.tqdm(LTR_IDs):\n",
    "        element = annot[annot[\"LTR_ID\"] == idx]\n",
    "        element_5LTR = element[element[\"Domain\"] == \"intact_5ltr\"][[\"Start\", \"End\"]]\n",
    "        element_3LTR = element[element[\"Domain\"] == \"intact_3ltr\"][[\"Start\", \"End\"]]\n",
    "        try:\n",
    "            LTRs[idx] = ({\"Start\": int(element_5LTR[\"Start\"]),\"End\": int(element_5LTR[\"End\"])},{\"Start\": int(element_3LTR[\"Start\"]),\"End\": int(element_3LTR[\"End\"])})\n",
    "        except:\n",
    "            pass"
   ]
  },
  {
   "cell_type": "code",
   "execution_count": 5,
   "metadata": {},
   "outputs": [],
   "source": [
    "import Bio.SeqIO as SeqIO\n",
    "chromosome_sequences = {(rec.id): rec.seq for rec in SeqIO.parse(\"/opt/xhorvat9_TE_DBs/Genomes/Genomes/Zea_mays.fa\", \"fasta\")}"
   ]
  },
  {
   "cell_type": "code",
   "execution_count": 31,
   "metadata": {},
   "outputs": [],
   "source": [
    "def check_interval(LTRs, chromosome, start, end):\n",
    "    ltr_starts = LTRs[LTRs[\"Chromosome\"].str.match(chromosome)].Start\n",
    "    ltr_ends = LTRs[LTRs[\"Chromosome\"].str.match(chromosome)].End\n",
    "    ii = pd.IntervalIndex.from_arrays(ltr_starts, ltr_ends, closed=\"both\")\n",
    "    return ii.contains(start) | ii.contains(end)"
   ]
  },
  {
   "cell_type": "code",
   "execution_count": 32,
   "metadata": {},
   "outputs": [],
   "source": [
    "sequence_dicts = dict([(genome, dict([(record.id, record.seq) for record in SeqIO.parse(f\"{genomes_path}{genome}.fa\", \"fasta\")])) for genome in genomes])"
   ]
  },
  {
   "cell_type": "code",
   "execution_count": 33,
   "metadata": {},
   "outputs": [],
   "source": [
    "LTRs = {}\n",
    "for genome in genomes:\n",
    "    annot = pd.read_csv(f\"{annotation_path}{genome}.txt\", sep=\"\\t\", low_memory=False)\n",
    "    LTRs[genome] = annot[annot[\"Domain\"].str.contains(\"ltr\")]"
   ]
  },
  {
   "attachments": {},
   "cell_type": "markdown",
   "metadata": {},
   "source": [
    "#### Extract the sequences avoiding the LTR locations and regions with N count above 10%"
   ]
  },
  {
   "cell_type": "code",
   "execution_count": 34,
   "metadata": {},
   "outputs": [],
   "source": [
    "import random\n",
    "from Bio.SeqRecord import SeqRecord\n",
    "from Bio.Seq import Seq\n",
    "n_sequences = int(len(LTR_sequences) * 0.60)\n",
    "\n",
    "for i in range(n_sequences):\n",
    "    # Randomly sample genome\n",
    "    chosen_genome = random.choice(genomes)\n",
    "    # randomly sample chromosome\n",
    "    chosen_chromosome = random.choice(list(sequence_dicts[chosen_genome].keys()))\n",
    "    # randomly sample length\n",
    "    chosen_length = random.choice(seq_lens)\n",
    "    if len(sequence_dicts[chosen_genome][chosen_chromosome])-chosen_length < 50:\n",
    "        i -= 1\n",
    "        continue\n",
    "    random_start = random.randint(0, len(sequence_dicts[chosen_genome][chosen_chromosome])-chosen_length)\n",
    "    while any(check_interval(LTRs[chosen_genome], chosen_chromosome, random_start, random_start+chosen_length)):\n",
    "        random_start = random.randint(0, len(sequence_dicts[chosen_genome][chosen_chromosome])-chosen_length)\n",
    "    seq = sequence_dicts[chosen_genome][chosen_chromosome][random_start:random_start+chosen_length]\n",
    "    if seq.count(\"N\") > len(seq)/10:\n",
    "        i -= 1\n",
    "        continue\n",
    "    record = SeqRecord(\n",
    "        Seq(seq),\n",
    "        id=f\"{sequence_id}_non-LTR_genome_extract\",\n",
    "        description=f\"{chosen_genome} chr{chosen_chromosome} {random_start}:{random_start+chosen_length}\")\n",
    "    sequence_id += 1\n",
    "    non_LTR_sequences.append(record)"
   ]
  },
  {
   "cell_type": "code",
   "execution_count": null,
   "metadata": {},
   "outputs": [],
   "source": [
    "SeqIO.write(non_LTR_sequences, \"non_LTR_sequences.fasta\", \"fasta\")"
   ]
  }
 ],
 "metadata": {
  "kernelspec": {
   "display_name": "ltr_annotation",
   "language": "python",
   "name": "python3"
  },
  "language_info": {
   "codemirror_mode": {
    "name": "ipython",
    "version": 3
   },
   "file_extension": ".py",
   "mimetype": "text/x-python",
   "name": "python",
   "nbconvert_exporter": "python",
   "pygments_lexer": "ipython3",
   "version": "3.8.16"
  },
  "orig_nbformat": 4,
  "vscode": {
   "interpreter": {
    "hash": "2bbf44bde4e496ae590b4bf8a51bb83cdf6a6123df4b6f6d43adc958f3e1f976"
   }
  }
 },
 "nbformat": 4,
 "nbformat_minor": 2
}
